{
 "cells": [
  {
   "cell_type": "code",
   "execution_count": null,
   "id": "23a9722c-8811-4cf7-a2ea-c1d43e4689b2",
   "metadata": {
    "tags": []
   },
   "outputs": [],
   "source": [
    "import numpy as np\n",
    "import scipy \n",
    "import matplotlib.pyplot as plt\n",
    "from scipy.special import softmax\n",
    "\n",
    "sigmoid = scipy.special.expit\n",
    "\n",
    "# Generate some data\n",
    "\n",
    "np.random.seed(13)\n",
    "    \n",
    "# Generate random points in a 2D space\n",
    "x1 = np.random.uniform(-1.5, 1.5, 10)\n",
    "x2 = np.random.uniform(-1.5, 1.5, 10)\n",
    "    \n",
    "# Define the label based on the circular decision boundary\n",
    "y = (x1**2 + x2**2 >= 1).astype(int)\n",
    "    \n",
    "# Create numpy array\n",
    "dataset = np.column_stack((x1, x2, y))"
   ]
  },
  {
   "cell_type": "code",
   "execution_count": null,
   "id": "a8ed0ec7-d97c-4005-9f1d-9e14819a4ed4",
   "metadata": {
    "tags": []
   },
   "outputs": [],
   "source": [
    "dataset\n"
   ]
  },
  {
   "cell_type": "code",
   "execution_count": null,
   "id": "16ea05b8-8088-409c-bbdc-8366b9192a8a",
   "metadata": {},
   "outputs": [],
   "source": []
  }
 ],
 "metadata": {
  "kernelspec": {
   "display_name": "Python 3 (ipykernel)",
   "language": "python",
   "name": "python3"
  },
  "language_info": {
   "codemirror_mode": {
    "name": "ipython",
    "version": 3
   },
   "file_extension": ".py",
   "mimetype": "text/x-python",
   "name": "python",
   "nbconvert_exporter": "python",
   "pygments_lexer": "ipython3",
   "version": "3.8.17"
  }
 },
 "nbformat": 4,
 "nbformat_minor": 5
}
